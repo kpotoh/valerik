{
 "cells": [
  {
   "cell_type": "code",
   "execution_count": 1,
   "metadata": {},
   "outputs": [],
   "source": [
    "import random\n",
    "from Bio.Blast import NCBIWWW\n",
    "from Bio import SeqIO"
   ]
  },
  {
   "cell_type": "code",
   "execution_count": 8,
   "metadata": {},
   "outputs": [],
   "source": [
    "fasta = SeqIO.parse(\"../data/tree2/3y.fas\", format=\"fasta\")\n",
    "seqs = {r.name: str(r.seq) for r in fasta if not r.name.startswith(\"NR\")}"
   ]
  },
  {
   "cell_type": "code",
   "execution_count": null,
   "metadata": {},
   "outputs": [],
   "source": [
    "seqs."
   ]
  },
  {
   "cell_type": "code",
   "execution_count": 15,
   "metadata": {},
   "outputs": [
    {
     "ename": "KeyboardInterrupt",
     "evalue": "",
     "output_type": "error",
     "traceback": [
      "\u001b[0;31m---------------------------------------------------------------------------\u001b[0m",
      "\u001b[0;31mKeyboardInterrupt\u001b[0m                         Traceback (most recent call last)",
      "Cell \u001b[0;32mIn [15], line 2\u001b[0m\n\u001b[1;32m      1\u001b[0m \u001b[38;5;28;01mfor\u001b[39;00m name, seq \u001b[38;5;129;01min\u001b[39;00m seqs\u001b[38;5;241m.\u001b[39mitems():\n\u001b[0;32m----> 2\u001b[0m     result_handler \u001b[38;5;241m=\u001b[39m \u001b[43mNCBIWWW\u001b[49m\u001b[38;5;241;43m.\u001b[39;49m\u001b[43mqblast\u001b[49m\u001b[43m(\u001b[49m\u001b[38;5;124;43m\"\u001b[39;49m\u001b[38;5;124;43mblastn\u001b[39;49m\u001b[38;5;124;43m\"\u001b[39;49m\u001b[43m,\u001b[49m\u001b[43m \u001b[49m\u001b[38;5;124;43m\"\u001b[39;49m\u001b[38;5;124;43mnr\u001b[39;49m\u001b[38;5;124;43m\"\u001b[39;49m\u001b[43m,\u001b[49m\u001b[43m \u001b[49m\u001b[43mseq\u001b[49m\u001b[43m,\u001b[49m\u001b[43m \u001b[49m\u001b[43mformat_type\u001b[49m\u001b[38;5;241;43m=\u001b[39;49m\u001b[38;5;124;43m'\u001b[39;49m\u001b[38;5;124;43mXML\u001b[39;49m\u001b[38;5;124;43m'\u001b[39;49m\u001b[43m,\u001b[49m\u001b[43m \u001b[49m\u001b[43mhitlist_size\u001b[49m\u001b[38;5;241;43m=\u001b[39;49m\u001b[38;5;241;43m2\u001b[39;49m\u001b[43m,\u001b[49m\u001b[43m \u001b[49m\u001b[43mentrez_query\u001b[49m\u001b[38;5;241;43m=\u001b[39;49m\u001b[38;5;124;43m'\u001b[39;49m\u001b[38;5;124;43m(Bacteria[ORGN] OR Archaea[ORGN])\u001b[39;49m\u001b[38;5;124;43m'\u001b[39;49m\u001b[43m)\u001b[49m\n\u001b[1;32m      3\u001b[0m     \u001b[38;5;28mprint\u001b[39m(result_handler)\n\u001b[1;32m      4\u001b[0m     \u001b[38;5;28;01mbreak\u001b[39;00m\n",
      "File \u001b[0;32m~/valerik/env_micr/lib/python3.8/site-packages/Bio/Blast/NCBIWWW.py:246\u001b[0m, in \u001b[0;36mqblast\u001b[0;34m(program, database, sequence, url_base, auto_format, composition_based_statistics, db_genetic_code, endpoints, entrez_query, expect, filter, gapcosts, genetic_code, hitlist_size, i_thresh, layout, lcase_mask, matrix_name, nucl_penalty, nucl_reward, other_advanced, perc_ident, phi_pattern, query_file, query_believe_defline, query_from, query_to, searchsp_eff, service, threshold, ungapped_alignment, word_size, short_query, alignments, alignment_view, descriptions, entrez_links_new_window, expect_low, expect_high, format_entrez_query, format_object, format_type, ncbi_gi, results_file, show_overview, megablast, template_type, template_length)\u001b[0m\n\u001b[1;32m    244\u001b[0m wait \u001b[39m=\u001b[39m qblast\u001b[39m.\u001b[39m_previous \u001b[39m+\u001b[39m delay \u001b[39m-\u001b[39m current\n\u001b[1;32m    245\u001b[0m \u001b[39mif\u001b[39;00m wait \u001b[39m>\u001b[39m \u001b[39m0\u001b[39m:\n\u001b[0;32m--> 246\u001b[0m     time\u001b[39m.\u001b[39;49msleep(wait)\n\u001b[1;32m    247\u001b[0m     qblast\u001b[39m.\u001b[39m_previous \u001b[39m=\u001b[39m current \u001b[39m+\u001b[39m wait\n\u001b[1;32m    248\u001b[0m \u001b[39melse\u001b[39;00m:\n",
      "\u001b[0;31mKeyboardInterrupt\u001b[0m: "
     ]
    }
   ],
   "source": [
    "for name, seq in seqs.items():\n",
    "    result_handler = NCBIWWW.qblast(\"blastn\", \"nr\", seq, format_type='XML', hitlist_size=2, entrez_query='(Bacteria[ORGN] OR Archaea[ORGN])')\n",
    "    print(result_handler)\n",
    "    break\n",
    "\n",
    "    # with open('blasta_res.txt', 'w') as fout:\n",
    "    #     blast_res = result_handler.read()\n",
    "    #     fout.write(blast_res)"
   ]
  },
  {
   "cell_type": "code",
   "execution_count": 13,
   "metadata": {},
   "outputs": [
    {
     "data": {
      "text/plain": [
       "'<p><!--\\nQBlastInfoBegin\\n\\tStatus=READY\\nQBlastInfoEnd\\n--><p>\\n<PRE>\\nBLASTN 2.13.0+\\nReference: Stephen F. Altschul, Thomas L. Madden, Alejandro\\nA. Schaffer, Jinghui Zhang, Zheng Zhang, Webb Miller, and\\nDavid J. Lipman (1997), \"Gapped BLAST and PSI-BLAST: a new\\ngeneration of protein database search programs\", Nucleic\\nAcids Res. 25:3389-3402.\\n\\n\\nRID: J3G90AR8016\\n\\n\\nDatabase: Nucleotide collection (nt)\\n           86,000,719 sequences; 860,079,733,724 total letters\\nQuery= \\nLength=251\\n\\n\\n                                                                   Score     E      Max\\nSequences producing significant alignments:                       (Bits)  Value   Ident\\n\\nJX193356.2 Uncultured bacterium clone D21025 16S ribosomal RNA...  449     2e-121  100%        \\nKM160418.1 Uncultured bacterium clone Espejo_9_20_11_Pumice.21...  449     2e-121  100%        \\nKM156655.1 Uncultured bacterium clone Espejo_9_20_11_Pumice.98...  449     2e-121  100%        \\nJX242818.1 Uncultured actinomycete clone ZY-71 16S ribosomal R...  449     2e-121  100%        \\nJF922943.1 Uncultured bacterium clone FM149 16S ribosomal RNA ...  449     2e-121  100%        \\n\\nALIGNMENTS\\n>JX193356.2 Uncultured bacterium clone D21025 16S ribosomal RNA gene, partial \\nsequence\\nLength=1173\\n\\n Score = 449 bits (497),  Expect = 2e-121\\n Identities = 250/251 (99%), Gaps = 0/251 (0%)\\n Strand=Plus/Plus\\n\\nQuery  1    TACGTAGGGTCCGAGCGTTGTCCGGAATTACTGGGCGTAAAGAGCTCGTAGGTGGTTTGT  60\\n            ||||||||||||||||||||||||||||||||||||||||||||||||||||||||||||\\nSbjct  498  TACGTAGGGTCCGAGCGTTGTCCGGAATTACTGGGCGTAAAGAGCTCGTAGGTGGTTTGT  557\\n\\nQuery  61   CGCGTTGTTCGTGAAATCTCACAACTCAATTGTGAGCGTGCGGGCGATACGGGCAGACTG  120\\n            ||||||||||||||||||||||||||||||||||||||||||||||||||||||||||||\\nSbjct  558  CGCGTTGTTCGTGAAATCTCACAACTCAATTGTGAGCGTGCGGGCGATACGGGCAGACTG  617\\n\\nQuery  121  GAGTACTGCAGGGGAGACTGGAATTCCTGGTGTAGCGGTGGAATGCGCAGACATCAGGAG  180\\n            ||||||||||||||||||||||||||||||||||||||||||||||||||| ||||||||\\nSbjct  618  GAGTACTGCAGGGGAGACTGGAATTCCTGGTGTAGCGGTGGAATGCGCAGATATCAGGAG  677\\n\\nQuery  181  GAACACCGGTGGCGAAGGCGGGTCTCTGGGCAGTAACTGACGCTGAGGAGCGAAAGCGTG  240\\n            ||||||||||||||||||||||||||||||||||||||||||||||||||||||||||||\\nSbjct  678  GAACACCGGTGGCGAAGGCGGGTCTCTGGGCAGTAACTGACGCTGAGGAGCGAAAGCGTG  737\\n\\nQuery  241  GGGAGCGAACA  251\\n            |||||||||||\\nSbjct  738  GGGAGCGAACA  748\\n\\n\\n>KM160418.1 Uncultured bacterium clone Espejo_9_20_11_Pumice.212596 16S ribosomal \\nRNA gene, partial sequence\\nLength=602\\n\\n Score = 449 bits (497),  Expect = 2e-121\\n Identities = 250/251 (99%), Gaps = 0/251 (0%)\\n Strand=Plus/Plus\\n\\nQuery  1    TACGTAGGGTCCGAGCGTTGTCCGGAATTACTGGGCGTAAAGAGCTCGTAGGTGGTTTGT  60\\n            ||||||||||||||||||||||||||||||||||||||||||||||||||||||||||||\\nSbjct  174  TACGTAGGGTCCGAGCGTTGTCCGGAATTACTGGGCGTAAAGAGCTCGTAGGTGGTTTGT  233\\n\\nQuery  61   CGCGTTGTTCGTGAAATCTCACAACTCAATTGTGAGCGTGCGGGCGATACGGGCAGACTG  120\\n            ||||||||||||||||||||||||||||||||||||||||||||||||||||||||||||\\nSbjct  234  CGCGTTGTTCGTGAAATCTCACAACTCAATTGTGAGCGTGCGGGCGATACGGGCAGACTG  293\\n\\nQuery  121  GAGTACTGCAGGGGAGACTGGAATTCCTGGTGTAGCGGTGGAATGCGCAGACATCAGGAG  180\\n            ||||||||||||||||||||||||||||||||||||||||||||||||||| ||||||||\\nSbjct  294  GAGTACTGCAGGGGAGACTGGAATTCCTGGTGTAGCGGTGGAATGCGCAGATATCAGGAG  353\\n\\nQuery  181  GAACACCGGTGGCGAAGGCGGGTCTCTGGGCAGTAACTGACGCTGAGGAGCGAAAGCGTG  240\\n            ||||||||||||||||||||||||||||||||||||||||||||||||||||||||||||\\nSbjct  354  GAACACCGGTGGCGAAGGCGGGTCTCTGGGCAGTAACTGACGCTGAGGAGCGAAAGCGTG  413\\n\\nQuery  241  GGGAGCGAACA  251\\n            |||||||||||\\nSbjct  414  GGGAGCGAACA  424\\n\\n\\n>KM156655.1 Uncultured bacterium clone Espejo_9_20_11_Pumice.9896 16S ribosomal \\nRNA gene, partial sequence\\nLength=605\\n\\n Score = 449 bits (497),  Expect = 2e-121\\n Identities = 250/251 (99%), Gaps = 0/251 (0%)\\n Strand=Plus/Plus\\n\\nQuery  1    TACGTAGGGTCCGAGCGTTGTCCGGAATTACTGGGCGTAAAGAGCTCGTAGGTGGTTTGT  60\\n            ||||||||||||||||||||||||||||||||||||||||||||||||||||||||||||\\nSbjct  177  TACGTAGGGTCCGAGCGTTGTCCGGAATTACTGGGCGTAAAGAGCTCGTAGGTGGTTTGT  236\\n\\nQuery  61   CGCGTTGTTCGTGAAATCTCACAACTCAATTGTGAGCGTGCGGGCGATACGGGCAGACTG  120\\n            ||||||||||||||||||||||||||||||||||||||||||||||||||||||||||||\\nSbjct  237  CGCGTTGTTCGTGAAATCTCACAACTCAATTGTGAGCGTGCGGGCGATACGGGCAGACTG  296\\n\\nQuery  121  GAGTACTGCAGGGGAGACTGGAATTCCTGGTGTAGCGGTGGAATGCGCAGACATCAGGAG  180\\n            ||||||||||||||||||||||||||||||||||||||||||||||||||| ||||||||\\nSbjct  297  GAGTACTGCAGGGGAGACTGGAATTCCTGGTGTAGCGGTGGAATGCGCAGATATCAGGAG  356\\n\\nQuery  181  GAACACCGGTGGCGAAGGCGGGTCTCTGGGCAGTAACTGACGCTGAGGAGCGAAAGCGTG  240\\n            ||||||||||||||||||||||||||||||||||||||||||||||||||||||||||||\\nSbjct  357  GAACACCGGTGGCGAAGGCGGGTCTCTGGGCAGTAACTGACGCTGAGGAGCGAAAGCGTG  416\\n\\nQuery  241  GGGAGCGAACA  251\\n            |||||||||||\\nSbjct  417  GGGAGCGAACA  427\\n\\n\\n>JX242818.1 Uncultured actinomycete clone ZY-71 16S ribosomal RNA gene, partial \\nsequence\\nLength=643\\n\\n Score = 449 bits (497),  Expect = 2e-121\\n Identities = 250/251 (99%), Gaps = 0/251 (0%)\\n Strand=Plus/Plus\\n\\nQuery  1    TACGTAGGGTCCGAGCGTTGTCCGGAATTACTGGGCGTAAAGAGCTCGTAGGTGGTTTGT  60\\n            ||||||||||||||||||||||||||||||||||||||||||||||||||||||||||||\\nSbjct  280  TACGTAGGGTCCGAGCGTTGTCCGGAATTACTGGGCGTAAAGAGCTCGTAGGTGGTTTGT  339\\n\\nQuery  61   CGCGTTGTTCGTGAAATCTCACAACTCAATTGTGAGCGTGCGGGCGATACGGGCAGACTG  120\\n            ||||||||||||||||||||||||||||||||||||||||||||||||||||||||||||\\nSbjct  340  CGCGTTGTTCGTGAAATCTCACAACTCAATTGTGAGCGTGCGGGCGATACGGGCAGACTG  399\\n\\nQuery  121  GAGTACTGCAGGGGAGACTGGAATTCCTGGTGTAGCGGTGGAATGCGCAGACATCAGGAG  180\\n            ||||||||||||||||||||||||||||||||||||||||||||||||||| ||||||||\\nSbjct  400  GAGTACTGCAGGGGAGACTGGAATTCCTGGTGTAGCGGTGGAATGCGCAGATATCAGGAG  459\\n\\nQuery  181  GAACACCGGTGGCGAAGGCGGGTCTCTGGGCAGTAACTGACGCTGAGGAGCGAAAGCGTG  240\\n            ||||||||||||||||||||||||||||||||||||||||||||||||||||||||||||\\nSbjct  460  GAACACCGGTGGCGAAGGCGGGTCTCTGGGCAGTAACTGACGCTGAGGAGCGAAAGCGTG  519\\n\\nQuery  241  GGGAGCGAACA  251\\n            |||||||||||\\nSbjct  520  GGGAGCGAACA  530\\n\\n\\n>JF922943.1 Uncultured bacterium clone FM149 16S ribosomal RNA gene, partial \\nsequence\\nLength=1072\\n\\n Score = 449 bits (497),  Expect = 2e-121\\n Identities = 250/251 (99%), Gaps = 0/251 (0%)\\n Strand=Plus/Plus\\n\\nQuery  1    TACGTAGGGTCCGAGCGTTGTCCGGAATTACTGGGCGTAAAGAGCTCGTAGGTGGTTTGT  60\\n            ||||||||||||||||||||||||||||||||||||||||||||||||||||||||||||\\nSbjct  434  TACGTAGGGTCCGAGCGTTGTCCGGAATTACTGGGCGTAAAGAGCTCGTAGGTGGTTTGT  493\\n\\nQuery  61   CGCGTTGTTCGTGAAATCTCACAACTCAATTGTGAGCGTGCGGGCGATACGGGCAGACTG  120\\n            ||||||||||||||||||||||||||||||||||||||||||||||||||||||||||||\\nSbjct  494  CGCGTTGTTCGTGAAATCTCACAACTCAATTGTGAGCGTGCGGGCGATACGGGCAGACTG  553\\n\\nQuery  121  GAGTACTGCAGGGGAGACTGGAATTCCTGGTGTAGCGGTGGAATGCGCAGACATCAGGAG  180\\n            ||||||||||||||||||||||||||||||||||||||||||||||||||| ||||||||\\nSbjct  554  GAGTACTGCAGGGGAGACTGGAATTCCTGGTGTAGCGGTGGAATGCGCAGATATCAGGAG  613\\n\\nQuery  181  GAACACCGGTGGCGAAGGCGGGTCTCTGGGCAGTAACTGACGCTGAGGAGCGAAAGCGTG  240\\n            ||||||||||||||||||||||||||||||||||||||||||||||||||||||||||||\\nSbjct  614  GAACACCGGTGGCGAAGGCGGGTCTCTGGGCAGTAACTGACGCTGAGGAGCGAAAGCGTG  673\\n\\nQuery  241  GGGAGCGAACA  251\\n            |||||||||||\\nSbjct  674  GGGAGCGAACA  684\\n\\n\\n  Database: Nucleotide collection (nt)\\n    Posted date:  Sep 4, 2022  3:06 PM\\n  Number of letters in database: 860,079,733,724\\n  Number of sequences in database:  86,000,719\\n\\nLambda      K        H\\n   0.634    0.408    0.912 \\nGapped\\nLambda      K        H\\n   0.625    0.410    0.780 \\nMatrix: blastn matrix:2 -3\\nGap Penalties: Existence: 5, Extension: 2\\nNumber of Sequences: 86000719\\nNumber of Hits to DB: 8545851\\nNumber of extensions: 101923\\nNumber of successful extensions: 101923\\nNumber of sequences better than 10: 51572\\nNumber of HSP\\'s better than 10 without gapping: 0\\nNumber of HSP\\'s gapped: 83738\\nNumber of HSP\\'s successfully gapped: 72340\\nLength of query: 251\\nLength of database: 860079733724\\nLength adjustment: 38\\nEffective length of query: 213\\nEffective length of database: 856811706402\\nEffective search space: 182500893463626\\nEffective search space used: 182500893463626\\nA: 0\\nX1: 22 (20.1 bits)\\nX2: 33 (29.8 bits)\\nX3: 110 (99.2 bits)\\nS1: 28 (26.5 bits)\\nS2: 48 (44.6 bits)\\n\\n\\n'"
      ]
     },
     "execution_count": 13,
     "metadata": {},
     "output_type": "execute_result"
    }
   ],
   "source": [
    "result_handler."
   ]
  }
 ],
 "metadata": {
  "kernelspec": {
   "display_name": "Python 3.8.10 ('env_micr': venv)",
   "language": "python",
   "name": "python3"
  },
  "language_info": {
   "codemirror_mode": {
    "name": "ipython",
    "version": 3
   },
   "file_extension": ".py",
   "mimetype": "text/x-python",
   "name": "python",
   "nbconvert_exporter": "python",
   "pygments_lexer": "ipython3",
   "version": "3.8.10"
  },
  "orig_nbformat": 4,
  "vscode": {
   "interpreter": {
    "hash": "2f41e1dfe371234aa58ad4cbf212261302546ce2adf1b4ece72cd86012929967"
   }
  }
 },
 "nbformat": 4,
 "nbformat_minor": 2
}
